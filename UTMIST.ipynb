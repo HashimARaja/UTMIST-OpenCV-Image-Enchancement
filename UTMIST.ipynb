{
  "nbformat": 4,
  "nbformat_minor": 0,
  "metadata": {
    "colab": {
      "provenance": [],
      "toc_visible": true,
      "include_colab_link": true
    },
    "kernelspec": {
      "name": "python3",
      "display_name": "Python 3"
    },
    "language_info": {
      "name": "python"
    }
  },
  "cells": [
    {
      "cell_type": "markdown",
      "metadata": {
        "id": "view-in-github",
        "colab_type": "text"
      },
      "source": [
        "<a href=\"https://colab.research.google.com/github/HashimARaja/UTMIST-OpenCV-Image-Enchancement/blob/Development/UTMIST.ipynb\" target=\"_parent\"><img src=\"https://colab.research.google.com/assets/colab-badge.svg\" alt=\"Open In Colab\"/></a>"
      ]
    },
    {
      "cell_type": "code",
      "execution_count": null,
      "metadata": {
        "id": "-G4SVQ7k3Frg"
      },
      "outputs": [],
      "source": [
        "BLAH BLAH BLAH\n"
      ]
    },
    {
      "cell_type": "markdown",
      "source": [
        "# New Section new stuff"
      ],
      "metadata": {
        "id": "MHWirLs23cer"
      }
    }
  ]
}