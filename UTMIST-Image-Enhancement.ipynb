{
  "nbformat": 4,
  "nbformat_minor": 0,
  "metadata": {
    "colab": {
      "provenance": [],
      "include_colab_link": true
    },
    "kernelspec": {
      "name": "python3",
      "display_name": "Python 3"
    },
    "language_info": {
      "name": "python"
    }
  },
  "cells": [
    {
      "cell_type": "markdown",
      "metadata": {
        "id": "view-in-github",
        "colab_type": "text"
      },
      "source": [
        "<a href=\"https://colab.research.google.com/github/HashimARaja/UTMIST-OpenCV-Image-Enchancement/blob/Development/UTMIST-Image-Enhancement.ipynb\" target=\"_parent\"><img src=\"https://colab.research.google.com/assets/colab-badge.svg\" alt=\"Open In Colab\"/></a>"
      ]
    },
    {
      "cell_type": "code",
      "execution_count": null,
      "metadata": {
        "id": "UB8Dg2SL0Kki",
        "outputId": "2db0d758-9898-4142-df78-5f0f46b960f4",
        "colab": {
          "base_uri": "https://localhost:8080/"
        }
      },
      "outputs": [
        {
          "output_type": "stream",
          "name": "stdout",
          "text": [
            "hello world\n",
            "test\n"
          ]
        }
      ],
      "source": [
        "print(\"hello world\")\n",
        "print('test')"
      ]
    },
    {
      "cell_type": "code",
      "source": [
        "print(\"test\")\n",
        "print(\"test\")\n",
        "print(\"test\")"
      ],
      "metadata": {
        "id": "poNTxLjJ2orB",
        "outputId": "5c4b13a7-874f-44a4-b90f-9ee8a88326bb",
        "colab": {
          "base_uri": "https://localhost:8080/"
        }
      },
      "execution_count": 1,
      "outputs": [
        {
          "output_type": "stream",
          "name": "stdout",
          "text": [
            "test\n",
            "test\n",
            "test\n"
          ]
        }
      ]
    }
  ]
}