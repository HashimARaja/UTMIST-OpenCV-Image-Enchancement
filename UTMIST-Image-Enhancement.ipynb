{
  "nbformat": 4,
  "nbformat_minor": 0,
  "metadata": {
    "colab": {
      "provenance": [],
      "include_colab_link": true
    },
    "kernelspec": {
      "name": "python3",
      "display_name": "Python 3"
    },
    "language_info": {
      "name": "python"
    }
  },
  "cells": [
    {
      "cell_type": "markdown",
      "metadata": {
        "id": "view-in-github",
        "colab_type": "text"
      },
      "source": [
        "<a href=\"https://colab.research.google.com/github/HashimARaja/UTMIST-OpenCV-Image-Enchancement/blob/main/UTMIST-Image-Enhancement.ipynb\" target=\"_parent\"><img src=\"https://colab.research.google.com/assets/colab-badge.svg\" alt=\"Open In Colab\"/></a>"
      ]
    },
    {
      "cell_type": "code",
      "execution_count": null,
      "metadata": {
        "id": "UB8Dg2SL0Kki"
      },
      "outputs": [],
      "source": [
        "Print(\"hello world\")"
      ]
    },
    {
      "cell_type": "code",
      "source": [
        "print(\"UTMIST!\")"
      ],
      "metadata": {
        "colab": {
          "base_uri": "https://localhost:8080/"
        },
        "id": "I1LN5s4x1YIF",
        "outputId": "2fcd6c7e-cb71-483d-9691-9a4e7a39eeb2"
      },
      "execution_count": 1,
      "outputs": [
        {
          "output_type": "stream",
          "name": "stdout",
          "text": [
            "UTMIST!\n"
          ]
        }
      ]
    }
  ]
}